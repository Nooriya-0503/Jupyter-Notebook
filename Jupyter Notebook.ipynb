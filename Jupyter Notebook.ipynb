{
 "cells": [
  {
   "cell_type": "markdown",
   "id": "338d9658",
   "metadata": {},
   "source": [
    "# Data Science Tools and Ecosystem"
   ]
  },
  {
   "cell_type": "markdown",
   "id": "42a664f6",
   "metadata": {},
   "source": [
    "In this notebook, Data Science Tools and Ecosystem are summarized."
   ]
  },
  {
   "cell_type": "markdown",
   "id": "1004845c",
   "metadata": {},
   "source": [
    "**Objectives:**\n",
    "- To list popular languages used by Data Scientists\n",
    "- To List some commonly used libraries by Data Scientists\n",
    "- Open Source IDEs for Data Science \n",
    "- Some Arithmatic Operations in Python\n",
    "- A function Converting Minutes into Hours"
   ]
  },
  {
   "cell_type": "markdown",
   "id": "47578e4a",
   "metadata": {},
   "source": [
    "**Some of the popular languages that Data Scientists use are:**\n",
    "1. Python\n",
    "2. R\n",
    "3. SQL\n"
   ]
  },
  {
   "cell_type": "markdown",
   "id": "c276de30",
   "metadata": {},
   "source": [
    "**Some of the commonly used libraries used by Data Scientists include:**\n",
    "1. Pandas\n",
    "2. Numpy\n",
    "3. GGplot\n",
    "4. Matplotlib\n",
    "5. Tensorflow"
   ]
  },
  {
   "cell_type": "markdown",
   "id": "7c1c3447",
   "metadata": {},
   "source": [
    "**Three development environment open source tools used in data science are:**\n",
    "|Data Science Tools|\n",
    "|----|\n",
    "|RStudio|\n",
    "|Jupyter Notebook|\n",
    "|Hadoop|"
   ]
  },
  {
   "cell_type": "markdown",
   "id": "d6e33f24",
   "metadata": {},
   "source": [
    "### Below are a few examples of evaluating arithmetic expressions in Python"
   ]
  },
  {
   "cell_type": "code",
   "execution_count": 1,
   "id": "9b35c5aa",
   "metadata": {},
   "outputs": [
    {
     "data": {
      "text/plain": [
       "17"
      ]
     },
     "execution_count": 1,
     "metadata": {},
     "output_type": "execute_result"
    }
   ],
   "source": [
    "#This a simple arithmetic expression to mutiply then add integers\n",
    "(3*4)+5"
   ]
  },
  {
   "cell_type": "code",
   "execution_count": 6,
   "id": "cf2e22f0",
   "metadata": {},
   "outputs": [
    {
     "name": "stdout",
     "output_type": "stream",
     "text": [
      "3.3333333333333335\n"
     ]
    }
   ],
   "source": [
    "def convert(min):\n",
    "    hrs = min/60\n",
    "    return hrs\n",
    "print(convert(200))\n",
    "# Above is a short program which contains a function that converts minutes into hours and takes minutes as an argument."
   ]
  },
  {
   "cell_type": "markdown",
   "id": "cd46c0df",
   "metadata": {},
   "source": [
    "## Author\n",
    "Nooriya"
   ]
  },
  {
   "cell_type": "code",
   "execution_count": null,
   "id": "6fd07592",
   "metadata": {},
   "outputs": [],
   "source": []
  }
 ],
 "metadata": {
  "kernelspec": {
   "display_name": "Python 3 (ipykernel)",
   "language": "python",
   "name": "python3"
  },
  "language_info": {
   "codemirror_mode": {
    "name": "ipython",
    "version": 3
   },
   "file_extension": ".py",
   "mimetype": "text/x-python",
   "name": "python",
   "nbconvert_exporter": "python",
   "pygments_lexer": "ipython3",
   "version": "3.11.5"
  }
 },
 "nbformat": 4,
 "nbformat_minor": 5
}
